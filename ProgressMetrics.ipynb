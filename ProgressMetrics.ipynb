{
  "nbformat": 4,
  "nbformat_minor": 0,
  "metadata": {
    "colab": {
      "provenance": []
    },
    "kernelspec": {
      "name": "python3",
      "display_name": "Python 3"
    },
    "language_info": {
      "name": "python"
    }
  },
  "cells": [
    {
      "cell_type": "code",
      "execution_count": 1,
      "metadata": {
        "colab": {
          "base_uri": "https://localhost:8080/"
        },
        "id": "1nMa126qbnMU",
        "outputId": "b6747332-dc56-4bea-bce9-cb7fcc9d0e98"
      },
      "outputs": [
        {
          "output_type": "stream",
          "name": "stdout",
          "text": [
            "Mounted at /content/gdrive\n"
          ]
        }
      ],
      "source": [
        "from google.colab import drive\n",
        "drive.mount('/content/gdrive')"
      ]
    },
    {
      "cell_type": "code",
      "source": [
        "!cd '/content/gdrive/My Drive/Object_Detection_Transformers/main-repo/dataset/area_of_stages'"
      ],
      "metadata": {
        "id": "sb0AkYzbdXPw"
      },
      "execution_count": 9,
      "outputs": []
    },
    {
      "cell_type": "code",
      "source": [
        "import numpy as np\n",
        "import os"
      ],
      "metadata": {
        "id": "vU2RNUTejA7R"
      },
      "execution_count": 10,
      "outputs": []
    },
    {
      "cell_type": "code",
      "source": [
        "def bbox_iou(bbox_a, bbox_b):\n",
        "    \"\"\"Calculate the Intersection of Unions (IoUs) between bounding boxes.\n",
        "\n",
        "    IoU is calculated as a ratio of area of the intersection\n",
        "    and area of the union.\n",
        "\n",
        "    both inputs and output should be python list\n",
        "    \"\"\"\n",
        "    ##########--WRITE YOUR CODE HERE--##########\n",
        "\n",
        "    a = np.array(bbox_a)\n",
        "    b = np.array(bbox_b)\n",
        "    a = a.repeat(b.shape[0], axis = 0)\n",
        "\n",
        "    top_left_a = a[ : , [0,1]] \n",
        "    top_left_b = b[ : , [0,1]]\n",
        "    bottom_right_a = a[ : , [2,3]] \n",
        "    bottom_right_b = b[ : , [2,3]]\n",
        "    max_pts = np.maximum(top_left_a , top_left_b)\n",
        "    min_pts = np.minimum(bottom_right_a , bottom_right_b)\n",
        "\n",
        "    inter_pts = np.concatenate((max_pts , min_pts) , axis = 1)\n",
        "\n",
        "    inter_dim = np.stack( [inter_pts[: , 2] -  inter_pts[: , 0] , inter_pts[: , 3] -  inter_pts[: , 1] ] , axis = 0).T\n",
        "    inter_dim[inter_dim < 0] = 0 \n",
        "    inter = np.multiply( inter_dim[:, 0] , inter_dim[:,1])\n",
        "\n",
        "    gt_area = (bbox_a[0][2] - bbox_a[0][0]) * (bbox_a[0][3] - bbox_a[0][1])\n",
        "\n",
        "    bbox_b_dim = np.stack( [b[: , 2] -  b[: , 0] , b[: , 3] -  b[: , 1] ] , axis = 0).T\n",
        "    bbox_b_areas = np.multiply( bbox_b_dim[:, 0] , bbox_b_dim[:,1])\n",
        "\n",
        "    union = bbox_b_areas - inter + gt_area\n",
        "\n",
        "    iou = [( inter / union ).tolist()]\n",
        "\n",
        "\n",
        "\n",
        "    ##########-------END OF CODE-------########## \n",
        "    return iou\n"
      ],
      "metadata": {
        "id": "ivJ98flImqy1"
      },
      "execution_count": 16,
      "outputs": []
    },
    {
      "cell_type": "code",
      "source": [
        "def area(box):\n",
        "  return (box[3] - box[1]) * (box[2] - box[0])\n"
      ],
      "metadata": {
        "id": "wpiNVxPyqmdu"
      },
      "execution_count": 70,
      "outputs": []
    },
    {
      "cell_type": "code",
      "source": [
        "def get_unique_boxes(path_annot):\n",
        "\n",
        "    annot_paths = [\n",
        "      f for f in os.listdir(path_annot) if os.path.isfile(os.path.join(path_annot, f))\n",
        "    ]\n",
        "    image_size = 224  \n",
        "\n",
        "    images, targets = [], []\n",
        "\n",
        "    # loop over the annotations and images, preprocess them and store in lists\n",
        "\n",
        "    elkhorn = []\n",
        "    staghorn = []\n",
        "\n",
        "    for i in range(len(annot_paths)):\n",
        "      f = open(path_annot +  annot_paths[i] , \"r\")\n",
        "      boxes = []\n",
        "      line = f.readline()\n",
        "      while line:\n",
        "        coordinates = line.split()\n",
        "        coral_type = int(float(coordinates[0]))\n",
        "        x_center, y_center ,box_width, box_height  = float(coordinates[1]) , float(coordinates[2]) , float(coordinates[3]) , float(coordinates[4] )\n",
        "        top_left_x = x_center - box_width / 2 \n",
        "        top_left_y = y_center - box_height / 2\n",
        "        bottom_right_x = x_center + box_width / 2 \n",
        "        bottom_right_y = y_center + box_height / 2\n",
        "\n",
        "        boxes.append([top_left_x * image_size, top_left_y * image_size , bottom_right_x * image_size , bottom_right_y * image_size])\n",
        "        line = f.readline()\n",
        "\n",
        "      if(boxes == []):\n",
        "        continue\n",
        "      boxes_unique = [boxes.pop()]\n",
        "\n",
        "      for box in boxes:\n",
        "        iou = bbox_iou([box] , boxes_unique)[0]\n",
        "        drop = False\n",
        "        for val in iou:\n",
        "          if(val > 0.8):\n",
        "            drop = True\n",
        "            break\n",
        "        if(not drop):\n",
        "          boxes_unique.append(box)\n",
        "      if(coral_type == 0):\n",
        "        elkhorn.extend(boxes_unique)\n",
        "      else :\n",
        "        staghorn.extend(boxes_unique)\n",
        "\n",
        "\n",
        "      f.close()\n",
        "    \n",
        "    return elkhorn , staghorn\n",
        "\n",
        "\n"
      ],
      "metadata": {
        "id": "LQBMoq1dhF1f"
      },
      "execution_count": 78,
      "outputs": []
    },
    {
      "cell_type": "markdown",
      "source": [
        "# Growth percentage of Corals"
      ],
      "metadata": {
        "id": "_XIReLPl0J-K"
      }
    },
    {
      "cell_type": "code",
      "source": [
        "stage1_elk , stage1_stag = get_unique_boxes('/content/gdrive/My Drive/Object_Detection_Transformers/main-repo/dataset/area_of_stages/stage1/labels/')\n",
        "stage2_elk , stage2_stag = get_unique_boxes('/content/gdrive/My Drive/Object_Detection_Transformers/main-repo/dataset/area_of_stages/stage2/labels/')\n",
        "\n",
        "stage1_elk_area = sum([area(box) for box in stage1_elk])\n",
        "stage2_elk_area = sum([area(box) for box in stage2_elk])\n",
        "\n",
        "stage1_stag_area = sum([area(box) for box in stage1_stag])\n",
        "stage2_stag_area = sum([area(box) for box in stage2_stag])\n",
        "\n",
        "\n",
        "print(\"STAGE 1 : Area of Elkhorn \" , round(stage1_elk_area , 2))\n",
        "print(\"STAGE 2 : Area of Elkhorn \" , round(stage2_elk_area , 2))\n",
        "\n",
        "print(\"\\n-------------------------------------------------------------------------\\n\")\n",
        "\n",
        "\n",
        "print(\"STAGE 1 : Area of Staghorn \" , round(stage1_stag_area , 2))\n",
        "print(\"STAGE 2 : Area of Staghorn \" , round(stage2_stag_area , 2))\n",
        "\n",
        "\n",
        "print(\"\\n-------------------------------------------------------------------------\\n\")\n",
        "\n",
        "print(\"Growth percentage of Elkhorn\" , round(((stage2_elk_area - stage1_elk_area) / stage1_elk_area) , 2) , \"%\")\n",
        "print(\"Growth percentage of Staghorn\" , round(((stage2_stag_area - stage1_stag_area) / stage1_stag_area) , 2) , \"%\")\n"
      ],
      "metadata": {
        "colab": {
          "base_uri": "https://localhost:8080/"
        },
        "id": "zaP93m6_uODS",
        "outputId": "efb1324e-d9e1-4f63-be5a-188e39ef34c3"
      },
      "execution_count": 85,
      "outputs": [
        {
          "output_type": "stream",
          "name": "stdout",
          "text": [
            "STAGE 1 : Area of Elkhorn  11239.71\n",
            "STAGE 2 : Area of Elkhorn  100743.88\n",
            "\n",
            "-------------------------------------------------------------------------\n",
            "\n",
            "STAGE 1 : Area of Staghorn  34726.3\n",
            "STAGE 2 : Area of Staghorn  132252.97\n",
            "\n",
            "-------------------------------------------------------------------------\n",
            "\n",
            "Growth percentage of Elkhorn 7.96 %\n",
            "Growth percentage of Staghorn 2.81 %\n"
          ]
        }
      ]
    }
  ]
}